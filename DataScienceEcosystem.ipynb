{
 "cells": [
  {
   "cell_type": "markdown",
   "id": "355a9b6e-379c-412e-9add-29fea81cab12",
   "metadata": {},
   "source": [
    "# Data Science Tools and Ecosystem"
   ]
  },
  {
   "cell_type": "markdown",
   "id": "b7fda55f-e958-4cbc-824e-42b13dc18927",
   "metadata": {},
   "source": [
    "In this notebook, Data Science Tools and Ecosystems are summarized"
   ]
  },
  {
   "cell_type": "markdown",
   "id": "ea9a1bad-ec04-4389-a2a3-c0805fe41870",
   "metadata": {},
   "source": [
    "**Objectives:**\n",
    "* List popular languages for data science\n",
    "* List commonly used libraries by Data Scientists\n",
    "* Create a code to multiply and add numbers"
   ]
  },
  {
   "cell_type": "markdown",
   "id": "d4372519-ae49-4956-9842-6e71c774e443",
   "metadata": {},
   "source": [
    "Some of the popular languages that Data Scientists use are:\n",
    "1. python\n",
    "2. SQL\n",
    "3. R\n"
   ]
  },
  {
   "cell_type": "markdown",
   "id": "467ae932-878b-4bd3-ac2a-39ea53678bc2",
   "metadata": {},
   "source": [
    "Some of the commonly used libraries by Data Scientists include:\n",
    "1. TensorFlow\n",
    "2. NumPy\n",
    "3. Pandas\n",
    "\n"
   ]
  },
  {
   "cell_type": "markdown",
   "id": "291f724e-7acb-4615-ab33-602708a0cdf2",
   "metadata": {},
   "source": [
    "|Data science Tools|\n",
    "|------------------|\n",
    "|Git hub|\n",
    "|Jupyter Notebooks|\n",
    "|RStudio IDE|"
   ]
  },
  {
   "cell_type": "markdown",
   "id": "272279d9-3cd1-44f6-b516-4155685bf037",
   "metadata": {},
   "source": [
    "### Below are a few examples of evaluating arithmetic expressions in Python."
   ]
  },
  {
   "cell_type": "code",
   "execution_count": 6,
   "id": "a96dcf69-e070-4f4a-86a5-ed8859913371",
   "metadata": {},
   "outputs": [
    {
     "data": {
      "text/plain": [
       "17"
      ]
     },
     "execution_count": 6,
     "metadata": {},
     "output_type": "execute_result"
    }
   ],
   "source": [
    "# This a simple arithmetic expression to mutiply then add integers\n",
    "(3*4)+5"
   ]
  },
  {
   "cell_type": "code",
   "execution_count": 14,
   "id": "bdb70a7c-2cd8-4731-95ab-05f32cf8c911",
   "metadata": {},
   "outputs": [
    {
     "name": "stdout",
     "output_type": "stream",
     "text": [
      "200 minutes is 3.3333333333333335 hours\n"
     ]
    }
   ],
   "source": [
    "# This will convert 200 minutes to hours by diving by 60\n",
    "Results = 200/60\n",
    "print (\"200 minutes is\", Results,  \"hours\")"
   ]
  },
  {
   "cell_type": "markdown",
   "id": "25da5cdc-1b06-405c-afa5-5875a9c27289",
   "metadata": {},
   "source": [
    "**Objectives**\n",
    "* objective 1\n",
    "* objective 2\n",
    "* objective 3"
   ]
  },
  {
   "cell_type": "markdown",
   "id": "6d608f78-22c1-479e-b15b-87ea97343954",
   "metadata": {},
   "source": [
    "## Author: \n",
    "Nader Bedair"
   ]
  },
  {
   "cell_type": "code",
   "execution_count": null,
   "id": "c4f51f3c-6e43-491d-96fd-937587f967ab",
   "metadata": {},
   "outputs": [],
   "source": []
  }
 ],
 "metadata": {
  "kernelspec": {
   "display_name": "Python",
   "language": "python",
   "name": "conda-env-python-py"
  },
  "language_info": {
   "codemirror_mode": {
    "name": "ipython",
    "version": 3
   },
   "file_extension": ".py",
   "mimetype": "text/x-python",
   "name": "python",
   "nbconvert_exporter": "python",
   "pygments_lexer": "ipython3",
   "version": "3.7.12"
  }
 },
 "nbformat": 4,
 "nbformat_minor": 5
}
